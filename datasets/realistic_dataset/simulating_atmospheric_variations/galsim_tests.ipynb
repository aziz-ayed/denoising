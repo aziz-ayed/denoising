{
 "cells": [
  {
   "cell_type": "code",
   "execution_count": 1,
   "id": "c0ccd2cb",
   "metadata": {},
   "outputs": [
    {
     "name": "stdout",
     "output_type": "stream",
     "text": [
      "Populating the interactive namespace from numpy and matplotlib\n"
     ]
    }
   ],
   "source": [
    "#import os\n",
    "\n",
    "#apt-get -qq update; apt-get install -y python-dev libfftw3-dev libeigen3-dev ffmpeg pybind11-dev\n",
    "#pip install rmjarvis.eigency>=1.77.1\n",
    "#pip install galsim --no-cache-dir\n",
    "import numpy as np\n",
    "import itertools\n",
    "import matplotlib.pyplot as plt\n",
    "%pylab inline\n",
    "import matplotlib as mpl\n",
    "from matplotlib.colors import ListedColormap, LinearSegmentedColormap\n",
    "from mpl_toolkits.axes_grid1 import make_axes_locatable\n",
    "\n",
    "from mpl_toolkits.mplot3d import Axes3D  # noqa: F401 unused import\n",
    "from matplotlib import cm\n",
    "from matplotlib.ticker import LinearLocator, FormatStrFormatter\n",
    "\n",
    "import galsim \n",
    "import scipy as sp\n",
    "\n",
    "# Pre-defined colormap\n",
    "top = mpl.cm.get_cmap('Oranges_r', 128)\n",
    "bottom = mpl.cm.get_cmap('Blues', 128)\n",
    "newcolors = np.vstack((top(np.linspace(0, 1, 128)),\n",
    "                       bottom(np.linspace(0, 1, 128))))\n",
    "newcmp = ListedColormap(newcolors, name='OrangeBlue')"
   ]
  },
  {
   "cell_type": "code",
   "execution_count": 2,
   "id": "e2511ee7",
   "metadata": {},
   "outputs": [],
   "source": [
    "altitude = [0, 2.58, 5.16, 7.73, 12.89, 15.46]  # km\n",
    "r0_500 = 0.12  # m\n",
    "weights = [0.652, 0.172, 0.055, 0.025, 0.074, 0.022]\n",
    "speed = np.random.uniform(0, 20, size=6)  # m/s\n",
    "direction = [np.random.uniform(0, 360)*galsim.degrees for i in range(6)]\n",
    "npix = 8192\n",
    "screen_scale = r0_500\n",
    "atm = galsim.Atmosphere(r0_500=r0_500, r0_weights=weights,\n",
    "                            screen_size=screen_scale*npix,\n",
    "                            altitude=altitude, L0=25.0, speed=speed,\n",
    "                            direction=direction, screen_scale=screen_scale)"
   ]
  },
  {
   "cell_type": "code",
   "execution_count": 3,
   "id": "d57f347e",
   "metadata": {},
   "outputs": [],
   "source": [
    "psf = atm.makePSF(lam=700.0, exptime=15.0, time_step=0.005, diam=8.4, obscuration=0.6)"
   ]
  },
  {
   "cell_type": "code",
   "execution_count": 4,
   "id": "fd0b88c8",
   "metadata": {},
   "outputs": [],
   "source": [
    "img1 = psf.drawImage()"
   ]
  },
  {
   "cell_type": "code",
   "execution_count": 17,
   "id": "0e99b3b1",
   "metadata": {},
   "outputs": [
    {
     "data": {
      "text/plain": [
       "galsim.Image(bounds=galsim.BoundsI(xmin=1, xmax=51, ymin=1, ymax=51), array=\n",
       "array([[ 4.3264997e-10,  2.3343455e-10,  1.9228645e-10, ...,\n",
       "        -5.0944987e-10, -3.5291414e-10, -1.1753641e-10],\n",
       "       [ 1.2766065e-10,  1.7536179e-12,  5.0220414e-08, ...,\n",
       "         9.4417437e-08,  4.3350170e-08, -2.9341005e-10],\n",
       "       [ 5.6593903e-11, -2.4567348e-10,  5.2919700e-07, ...,\n",
       "         1.0138259e-06,  4.6575309e-07, -1.0026503e-10],\n",
       "       ...,\n",
       "       [-2.6241545e-10, -7.9467605e-10,  5.1627444e-07, ...,\n",
       "         9.9965848e-07,  4.5620618e-07,  1.3308527e-10],\n",
       "       [-4.4687429e-10, -7.6032136e-10, -1.9465527e-09, ...,\n",
       "        -2.6866189e-09, -1.0804333e-09, -3.3684326e-11],\n",
       "       [-3.9690276e-10, -7.2193213e-10, -4.8936499e-10, ...,\n",
       "         7.3942692e-11,  3.0783096e-10,  3.5755177e-10]], dtype=float32), wcs=galsim.PixelScale(0.187))"
      ]
     },
     "execution_count": 17,
     "metadata": {},
     "output_type": "execute_result"
    }
   ],
   "source": [
    "image_size = 51\n",
    "beta_psf =  4.8 # 4.8# 2.5\n",
    "pix_scale = 0.187\n",
    "psf_flux = 1.\n",
    "\n",
    "rand_shift = np.random.rand(2)-0.5\n",
    "\n",
    "psf = psf.withFlux(psf_flux)\n",
    "psf.shear(g1=0.11, g2=-0.08)\n",
    "\n",
    "noisy_image_epsf = galsim.ImageF(image_size, image_size)\n",
    "psf.drawImage(image=noisy_image_epsf, offset=rand_shift, scale=pix_scale)"
   ]
  },
  {
   "cell_type": "code",
   "execution_count": 18,
   "id": "b78029b5",
   "metadata": {},
   "outputs": [
    {
     "data": {
      "text/plain": [
       "<matplotlib.colorbar.Colorbar at 0x7f9293654e80>"
      ]
     },
     "execution_count": 18,
     "metadata": {},
     "output_type": "execute_result"
    },
    {
     "data": {
      "image/png": "[encoded data removed]",
      "text/plain": [
       "<Figure size 720x720 with 4 Axes>"
      ]
     },
     "metadata": {
      "needs_background": "light"
     },
     "output_type": "display_data"
    }
   ],
   "source": [
    "fig = plt.figure(num=0, figsize=(10,10))\n",
    "plt.subplot(121)\n",
    "imshow(img1.array, interpolation='None', cmap='gist_stern');colorbar(shrink=0.5)\n",
    "plt.subplot(122)\n",
    "imshow(noisy_image_epsf.array, interpolation='None', cmap='gist_stern');colorbar(shrink=0.5)"
   ]
  },
  {
   "cell_type": "code",
   "execution_count": 22,
   "id": "4d86dbea",
   "metadata": {},
   "outputs": [],
   "source": [
    "psf2 = atm.makePSF(lam=700.0, exptime=15.0, time_step=0.005, diam=8.4, obscuration=0.6)"
   ]
  },
  {
   "cell_type": "code",
   "execution_count": 23,
   "id": "7ba8c80e",
   "metadata": {},
   "outputs": [],
   "source": [
    "img2 = psf2.drawImage()"
   ]
  },
  {
   "cell_type": "code",
   "execution_count": 27,
   "id": "9f9a5bcf",
   "metadata": {},
   "outputs": [
    {
     "data": {
      "text/plain": [
       "galsim.Image(bounds=galsim.BoundsI(xmin=1, xmax=51, ymin=1, ymax=51), array=\n",
       "array([[ 4.3264997e-10,  2.3343455e-10,  1.9228645e-10, ...,\n",
       "        -5.0944987e-10, -3.5291414e-10, -1.1753641e-10],\n",
       "       [ 1.2766065e-10,  1.7536179e-12,  5.0220414e-08, ...,\n",
       "         9.4417437e-08,  4.3350170e-08, -2.9341005e-10],\n",
       "       [ 5.6593903e-11, -2.4567348e-10,  5.2919700e-07, ...,\n",
       "         1.0138259e-06,  4.6575309e-07, -1.0026503e-10],\n",
       "       ...,\n",
       "       [-2.6241545e-10, -7.9467605e-10,  5.1627444e-07, ...,\n",
       "         9.9965848e-07,  4.5620618e-07,  1.3308527e-10],\n",
       "       [-4.4687429e-10, -7.6032136e-10, -1.9465527e-09, ...,\n",
       "        -2.6866189e-09, -1.0804333e-09, -3.3684326e-11],\n",
       "       [-3.9690276e-10, -7.2193213e-10, -4.8936499e-10, ...,\n",
       "         7.3942692e-11,  3.0783096e-10,  3.5755177e-10]], dtype=float32), wcs=galsim.PixelScale(0.187))"
      ]
     },
     "execution_count": 27,
     "metadata": {},
     "output_type": "execute_result"
    }
   ],
   "source": [
    "psf2 = psf2.withFlux(psf_flux)\n",
    "psf2.shear(g1=0.11, g2=-0.08)\n",
    "\n",
    "noisy_image_epsf2 = galsim.ImageF(image_size, image_size)\n",
    "psf2.drawImage(image=noisy_image_epsf2, offset=rand_shift, scale=pix_scale)"
   ]
  },
  {
   "cell_type": "code",
   "execution_count": 28,
   "id": "9cd27b20",
   "metadata": {},
   "outputs": [
    {
     "data": {
      "text/plain": [
       "<matplotlib.colorbar.Colorbar at 0x7f92a5618c10>"
      ]
     },
     "execution_count": 28,
     "metadata": {},
     "output_type": "execute_result"
    },
    {
     "data": {
      "image/png": "[encoded data removed]",
      "text/plain": [
       "<Figure size 720x720 with 4 Axes>"
      ]
     },
     "metadata": {
      "needs_background": "light"
     },
     "output_type": "display_data"
    }
   ],
   "source": [
    "fig = plt.figure(num=0, figsize=(10,10))\n",
    "plt.subplot(121)\n",
    "imshow(img2.array, interpolation='None', cmap='gist_stern');colorbar(shrink=0.5)\n",
    "plt.subplot(122)\n",
    "imshow(noisy_image_epsf2.array, interpolation='None', cmap='gist_stern');colorbar(shrink=0.5)"
   ]
  },
  {
   "cell_type": "code",
   "execution_count": 7,
   "id": "4587aee9",
   "metadata": {},
   "outputs": [],
   "source": [
    "psf3 = atm.makePSF(lam=700.0, exptime=15.0, time_step=0.005, diam=8.4, obscuration=0.6)"
   ]
  },
  {
   "cell_type": "code",
   "execution_count": 8,
   "id": "6c9e40b9",
   "metadata": {},
   "outputs": [
    {
     "data": {
      "text/plain": [
       "galsim.Image(bounds=galsim.BoundsI(xmin=1, xmax=51, ymin=1, ymax=51), array=\n",
       "array([[4.0528758e-07, 4.1310406e-07, 4.1617923e-07, ..., 4.2037905e-07,\n",
       "        4.0855372e-07, 3.9784186e-07],\n",
       "       [4.1146649e-07, 4.2695120e-07, 4.3493122e-07, ..., 4.3269111e-07,\n",
       "        4.1377419e-07, 4.0629439e-07],\n",
       "       [4.2239847e-07, 4.3742509e-07, 4.5619430e-07, ..., 4.4506422e-07,\n",
       "        4.2799334e-07, 4.1482019e-07],\n",
       "       ...,\n",
       "       [4.1675202e-07, 4.3110828e-07, 4.4704234e-07, ..., 4.4585650e-07,\n",
       "        4.2347443e-07, 4.0926676e-07],\n",
       "       [4.0750592e-07, 4.1445779e-07, 4.2679162e-07, ..., 4.2588718e-07,\n",
       "        4.1729584e-07, 4.0298113e-07],\n",
       "       [3.9849371e-07, 4.0463584e-07, 4.0957954e-07, ..., 4.0668192e-07,\n",
       "        4.0226024e-07, 4.0123072e-07]], dtype=float32), wcs=galsim.PixelScale(0.187))"
      ]
     },
     "execution_count": 8,
     "metadata": {},
     "output_type": "execute_result"
    }
   ],
   "source": [
    "psf3 = psf3.withFlux(psf_flux)\n",
    "psf3.shear(g1=0.11, g2=-0.08)\n",
    "\n",
    "noisy_image_epsf3 = galsim.ImageF(image_size, image_size)\n",
    "psf3.drawImage(image=noisy_image_epsf3, offset=rand_shift, scale=pix_scale)"
   ]
  },
  {
   "cell_type": "code",
   "execution_count": 12,
   "id": "d80c39ed",
   "metadata": {},
   "outputs": [
    {
     "data": {
      "text/plain": [
       "<matplotlib.colorbar.Colorbar at 0x7fa443df6df0>"
      ]
     },
     "execution_count": 12,
     "metadata": {},
     "output_type": "execute_result"
    },
    {
     "data": {
      "image/png": "[encoded data removed]",
      "text/plain": [
       "<Figure size 432x288 with 2 Axes>"
      ]
     },
     "metadata": {
      "needs_background": "light"
     },
     "output_type": "display_data"
    }
   ],
   "source": [
    "imshow(noisy_image_epsf3.array, interpolation='None', cmap='gist_stern');colorbar()"
   ]
  },
  {
   "cell_type": "code",
   "execution_count": null,
   "id": "d440383a",
   "metadata": {},
   "outputs": [],
   "source": []
  }
 ],
 "metadata": {
  "kernelspec": {
   "display_name": "Python 3",
   "language": "python",
   "name": "python3"
  },
  "language_info": {
   "codemirror_mode": {
    "name": "ipython",
    "version": 3
   },
   "file_extension": ".py",
   "mimetype": "text/x-python",
   "name": "python",
   "nbconvert_exporter": "python",
   "pygments_lexer": "ipython3",
   "version": "3.9.2"
  }
 },
 "nbformat": 4,
 "nbformat_minor": 5
}
