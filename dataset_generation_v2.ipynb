{
 "cells": [
  {
   "cell_type": "code",
   "execution_count": 1,
   "metadata": {
    "colab": {
     "base_uri": "https://localhost:8080/"
    },
    "id": "oA-duVOf89Xh",
    "outputId": "1c530019-6988-42ce-b75d-4aae8df3b4f4"
   },
   "outputs": [],
   "source": [
    "#import os\n",
    "\n",
    "#apt-get -qq update; apt-get install -y python-dev libfftw3-dev libeigen3-dev ffmpeg pybind11-dev\n",
    "#pip install rmjarvis.eigency>=1.77.1\n",
    "#pip install galsim --no-cache-dir\n",
    "import numpy as np\n",
    "import itertools\n",
    "import matplotlib.pyplot as plt\n",
    "import matplotlib as mpl\n",
    "from matplotlib.colors import ListedColormap, LinearSegmentedColormap\n",
    "from mpl_toolkits.axes_grid1 import make_axes_locatable\n",
    "\n",
    "from mpl_toolkits.mplot3d import Axes3D  # noqa: F401 unused import\n",
    "from matplotlib import cm\n",
    "from matplotlib.ticker import LinearLocator, FormatStrFormatter\n",
    "\n",
    "import galsim \n",
    "import scipy as sp\n",
    "\n",
    "# Pre-defined colormap\n",
    "top = mpl.cm.get_cmap('Oranges_r', 128)\n",
    "bottom = mpl.cm.get_cmap('Blues', 128)\n",
    "newcolors = np.vstack((top(np.linspace(0, 1, 128)),\n",
    "                       bottom(np.linspace(0, 1, 128))))\n",
    "newcmp = ListedColormap(newcolors, name='OrangeBlue')"
   ]
  },
  {
   "cell_type": "code",
   "execution_count": 2,
   "metadata": {
    "colab": {
     "base_uri": "https://localhost:8080/"
    },
    "id": "LGuS1tcdmKov",
    "outputId": "b45dc4ab-3a44-4dea-f00a-b461f4898f30"
   },
   "outputs": [],
   "source": [
    "#from google.colab import drive\n",
    "#drive.mount('/content/drive')\n",
    "#%cd drive/MyDrive/denoising"
   ]
  },
  {
   "cell_type": "code",
   "execution_count": 3,
   "metadata": {
    "id": "J1ZDxd009Jat"
   },
   "outputs": [],
   "source": [
    "import itertools\n",
    "np.random.seed(seed=10)\n",
    "\n",
    "# Define the ellipticities for each stars (e1s and e2s), \n",
    "# and the constant shape of the stars before the shearing (sigma, fwhm_psf)\n",
    "e1 = np.linspace(-0.15, 0.15, num=15, endpoint=True)\n",
    "e2 = np.linspace(-0.15, 0.15, num=15, endpoint=True)\n",
    "R2 = np.random.uniform(2.5, 8, 10)\n",
    "sigma = np.sqrt(R2/2)\n",
    "fwhm_psf = (2*np.sqrt(2*np.log(2)))*sigma\n",
    "SNR = np.linspace(10, 200, 19, dtype=int)\n",
    "SNR = np.append(SNR, 0)\n",
    "\n",
    "es = list(itertools.product(*[e1, e2, fwhm_psf, SNR]))\n",
    "e1s = np.array([a for a,b,c,d in es])\n",
    "e2s = np.array([b for a,b,c,d in es]) \n",
    "fwhms = np.array([c for a,b,c,d in es])\n",
    "snr = np.array([d for a,b,c,d in es])\n",
    "\n",
    "# Generate the 1000 combinations of e1, e2 and fwhm\n",
    "\n",
    "################################################################################################################\n",
    "\n",
    "# Define the ellipticities for each stars (e1s and e2s), \n",
    "# and the constant shape of the stars before the shearing (sigma, fwhm_psf)\n",
    "#e1 = np.linspace(-0.13, 0.13, num=15, endpoint=True)\n",
    "#e1[1]=-0.13\n",
    "#e1[4]=-0.07\n",
    "#e1[9]=0.01\n",
    "#e1[11]=0.09\n",
    "#e2 = np.linspace(-0.13, 0.13, num=15, endpoint=True)\n",
    "#e2[1]=-0.13\n",
    "#e2[4]=-0.07\n",
    "#e2[9]=0.01\n",
    "#e2[11]=0.09\n",
    "#R2 = np.linspace(2.5, 8, 10)\n",
    "#sigma = np.sqrt(R2/2)\n",
    "#fwhm_psf = (2*np.sqrt(2*np.log(2)))*sigma\n",
    "#SNR = [20, 42, 52, 83, 105, 115, 126, 147, 168, 178, 180]\n",
    "\n",
    "#es = list(itertools.product(*[e1, e2, fwhm_psf, SNR]))\n",
    "#e1s = np.array([a for a,b,c,d in es])\n",
    "#e2s = np.array([b for a,b,c,d in es]) \n",
    "#fwhms = np.array([c for a,b,c,d in es])\n",
    "#snr = np.array([d for a,b,c,d in es])\n",
    "\n",
    "\n",
    "## Ou alors garder un nombre d'images à 25 000 et faire n bins dedans\n",
    "\n",
    "################################################################################################################\n",
    "\n",
    "#e1 = np.array([-0.15, -0.11142857, -0.05571429, 0.03714286, 0.07428571, 0.15])\n",
    "#e2 = np.array([-0.15, -0.11142857, -0.05571429, 0.03714286, 0.07428571, 0.15])\n",
    "#R2 = np.linspace(2.5, 8, 10)\n",
    "#sigma = np.sqrt(R2/2)\n",
    "#fwhm_psf = (2*np.sqrt(2*np.log(2)))*sigma\n",
    "#SNR = [10, 20, 31, 65, 136, 157, 190, 0]\n",
    "\n",
    "#es = list(itertools.product(*[e1, e2, fwhm_psf, SNR]))\n",
    "#e1s = np.array([a for a,b,c,d in es])\n",
    "#e2s = np.array([b for a,b,c,d in es]) \n",
    "#fwhms = np.array([c for a,b,c,d in es])\n",
    "#snr = np.array([d for a,b,c,d in es])"
   ]
  },
  {
   "cell_type": "code",
   "execution_count": 4,
   "metadata": {
    "colab": {
     "base_uri": "https://localhost:8080/"
    },
    "id": "0x-4spKX9VrD",
    "outputId": "b8ce820c-06a8-48e2-bcaf-f5f440be039c"
   },
   "outputs": [
    {
     "name": "stderr",
     "output_type": "stream",
     "text": [
      "<ipython-input-4-e8d877443354>:29: RuntimeWarning: divide by zero encountered in true_divide\n",
      "  sigma_noise = np.sqrt((np.sum(noisy_image_epsf.array**2))/(snr[it] * image_size**2))\n"
     ]
    }
   ],
   "source": [
    "# Parameters\n",
    "image_size = 51\n",
    "psf_flux = 1.\n",
    "beta_psf =  4.8 # 4.8# 2.5\n",
    "pix_scale = 0.187\n",
    "#desired_SNR = 30\n",
    "\n",
    "# Generate the vignets\n",
    "new_vignets_noiseless = np.zeros((e1s.shape[0],image_size,image_size))\n",
    "new_vignets_with_noise = np.zeros((e1s.shape[0],image_size,image_size))\n",
    "new_e1_HSM = np.zeros(e1s.shape)\n",
    "new_e2_HSM = np.zeros(e1s.shape)\n",
    "new_R2_HSM = np.zeros(e1s.shape)\n",
    "for it in range(e1s.shape[0]):\n",
    "    \n",
    "    # PSF generation. Define size\n",
    "    psf = galsim.Moffat(fwhm=fwhms[it]*pix_scale, beta=beta_psf)\n",
    "#     psf = galsim.Gaussian(fwhm=fwhms[it]*pix_scale)#, beta=beta_psf)\n",
    "    # Define the Flux\n",
    "    psf = psf.withFlux(psf_flux)\n",
    "    # Define the shear\n",
    "    psf = psf.shear(g1=e1s[it], g2=e2s[it])\n",
    "    # Draw the PSF on a vignet\n",
    "    noisy_image_epsf = galsim.ImageF(image_size, image_size)\n",
    "    # Define intrapixel shift (uniform distribution in [-0.5,0.5])\n",
    "    rand_shift = np.random.rand(2)-0.5\n",
    "    psf.drawImage(image=noisy_image_epsf, offset=rand_shift, scale=pix_scale)\n",
    "\n",
    "    sigma_noise = np.sqrt((np.sum(noisy_image_epsf.array**2))/(snr[it] * image_size**2))\n",
    "    # Generate Gaussian noise for the PSF \n",
    "    gaussian_noise = galsim.GaussianNoise(sigma=sigma_noise)\n",
    "    \n",
    "    # Before adding the noise, we measure the ellipticity components\n",
    "#     my_moments = noisy_image_epsf.FindAdaptiveMom()\n",
    "    my_moments = galsim.hsm.FindAdaptiveMom(noisy_image_epsf)\n",
    "    new_e1_HSM[it] = my_moments.observed_shape.g1\n",
    "    new_e2_HSM[it] = my_moments.observed_shape.g2\n",
    "    new_R2_HSM[it] = my_moments.moments_sigma\n",
    "\n",
    "    # Save images before adding the noise\n",
    "\n",
    "    new_vignets_noiseless[it,:,:] = noisy_image_epsf.array\n",
    "    \n",
    "    # Add Gaussian noise to the PSF \n",
    "    \n",
    "    if snr[it]>0:\n",
    "      noisy_image_epsf.addNoise(gaussian_noise)\n",
    "      new_vignets_with_noise[it,:,:] = noisy_image_epsf.array\n",
    "    else:\n",
    "      new_vignets_with_noise[it,:,:] = noisy_image_epsf.array\n",
    "    "
   ]
  },
  {
   "cell_type": "code",
   "execution_count": 5,
   "metadata": {
    "id": "Wwxjc0aWUQyF"
   },
   "outputs": [],
   "source": [
    "train_dic = {'VIGNET_NOISELESS':new_vignets_noiseless,'VIGNETS_WITH_NOISE':new_vignets_with_noise,  \n",
    "             'TRUE_E1_HSM':new_e1_HSM,'TRUE_E2_HSM':new_e2_HSM,'TRUE_R2_HSM':new_R2_HSM}\n",
    "\n"
   ]
  },
  {
   "cell_type": "code",
   "execution_count": 6,
   "metadata": {
    "colab": {
     "base_uri": "https://localhost:8080/",
     "height": 755
    },
    "id": "V98iyO33bzXx",
    "outputId": "2876ddb9-9c39-44a8-9260-f750948fa28c"
   },
   "outputs": [
    {
     "name": "stdout",
     "output_type": "stream",
     "text": [
      "First star's ellipticity is: (-0.14649272480024125,-0.14651650226459972)\n",
      "Second star's ellipticity is: (-0.14213120533056228,-0.0610222519112723)\n"
     ]
    },
    {
     "data": {
      "image/png": "[encoded data removed]",
      "text/plain": [
       "<Figure size 864x864 with 5 Axes>"
      ]
     },
     "metadata": {
      "needs_background": "light"
     },
     "output_type": "display_data"
    }
   ],
   "source": [
    "one_star_noiseless = new_vignets_noiseless[1000,:,:]\n",
    "one_star_noise = new_vignets_with_noise[1000,:,:]\n",
    "second_star_noiseless = new_vignets_noiseless[288,:,:]\n",
    "second_star_noise = new_vignets_with_noise[288,:,:]\n",
    "\n",
    "fig = plt.figure(num=0, figsize=(12,12))\n",
    "ax1 = fig.add_subplot(2,2,1)\n",
    "im1 = ax1.imshow(one_star_noiseless, interpolation='None')\n",
    "ax2 = fig.add_subplot(2,2,2)\n",
    "im2 = ax2.imshow(one_star_noise, interpolation='None')\n",
    "ax3 = fig.add_subplot(2,2,3)\n",
    "im3 = ax3.imshow(second_star_noiseless, interpolation='None')\n",
    "ax4 = fig.add_subplot(2,2,4)\n",
    "im4 = ax4.imshow(second_star_noise, interpolation='None')\n",
    "divider = make_axes_locatable(ax1)\n",
    "cax = divider.append_axes('right', size='5%', pad=0.05)\n",
    "fig.colorbar(im1, cax=cax, orientation='vertical')\n",
    "\n",
    "print(\"First star's ellipticity is: ({},{})\".format(new_e1_HSM[0], new_e2_HSM[0]))\n",
    "print(\"Second star's ellipticity is: ({},{})\".format(new_e1_HSM[999], new_e2_HSM[999]))"
   ]
  },
  {
   "cell_type": "code",
   "execution_count": 10,
   "metadata": {
    "colab": {
     "background_save": true
    },
    "id": "IcbzKtvQ9tPA"
   },
   "outputs": [],
   "source": [
    "np.save('datasets/dataset_45_61.npy', train_dic, allow_pickle=True)"
   ]
  },
  {
   "cell_type": "code",
   "execution_count": 9,
   "metadata": {
    "id": "_7PZGBKCW-sE"
   },
   "outputs": [
    {
     "data": {
      "text/plain": [
       "45000"
      ]
     },
     "execution_count": 9,
     "metadata": {},
     "output_type": "execute_result"
    }
   ],
   "source": [
    "len(train_dic['VIGNET_NOISELESS'])"
   ]
  },
  {
   "cell_type": "code",
   "execution_count": null,
   "metadata": {},
   "outputs": [],
   "source": []
  }
 ],
 "metadata": {
  "colab": {
   "name": "dataset generation",
   "provenance": []
  },
  "kernelspec": {
   "display_name": "custom-python",
   "language": "python",
   "name": "custom-python"
  },
  "language_info": {
   "codemirror_mode": {
    "name": "ipython",
    "version": 3
   },
   "file_extension": ".py",
   "mimetype": "text/x-python",
   "name": "python",
   "nbconvert_exporter": "python",
   "pygments_lexer": "ipython3",
   "version": "3.8.3"
  }
 },
 "nbformat": 4,
 "nbformat_minor": 1
}
