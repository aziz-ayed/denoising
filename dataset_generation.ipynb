{
  "nbformat": 4,
  "nbformat_minor": 0,
  "metadata": {
    "colab": {
      "name": "dataset generation",
      "provenance": []
    },
    "kernelspec": {
      "name": "python3",
      "display_name": "Python 3"
    }
  },
  "cells": [
    {
      "cell_type": "code",
      "metadata": {
        "colab": {
          "base_uri": "https://localhost:8080/"
        },
        "id": "oA-duVOf89Xh",
        "outputId": "565e60a3-e1dd-46b5-cd52-f46513226c6d"
      },
      "source": [
        "!apt-get -qq update; apt-get install -y python-dev libfftw3-dev libeigen3-dev ffmpeg pybind11-dev\n",
        "!pip install rmjarvis.eigency>=1.77.1\n",
        "!pip install galsim --no-cache-dir\n",
        "import numpy as np\n",
        "import itertools\n",
        "import matplotlib.pyplot as plt\n",
        "import matplotlib as mpl\n",
        "from matplotlib.colors import ListedColormap, LinearSegmentedColormap\n",
        "from mpl_toolkits.axes_grid1 import make_axes_locatable\n",
        "\n",
        "from mpl_toolkits.mplot3d import Axes3D  # noqa: F401 unused import\n",
        "from matplotlib import cm\n",
        "from matplotlib.ticker import LinearLocator, FormatStrFormatter\n",
        "\n",
        "import galsim \n",
        "import scipy as sp\n",
        "\n",
        "# Pre-defined colormap\n",
        "top = mpl.cm.get_cmap('Oranges_r', 128)\n",
        "bottom = mpl.cm.get_cmap('Blues', 128)\n",
        "newcolors = np.vstack((top(np.linspace(0, 1, 128)),\n",
        "                       bottom(np.linspace(0, 1, 128))))\n",
        "newcmp = ListedColormap(newcolors, name='OrangeBlue')"
      ],
      "execution_count": 2,
      "outputs": [
        {
          "output_type": "stream",
          "text": [
            "Reading package lists... Done\n",
            "Building dependency tree       \n",
            "Reading state information... Done\n",
            "python-dev is already the newest version (2.7.15~rc1-1).\n",
            "ffmpeg is already the newest version (7:3.4.8-0ubuntu0.2).\n",
            "The following additional packages will be installed:\n",
            "  libfftw3-bin libfftw3-long3 libfftw3-quad3 libfftw3-single3\n",
            "Suggested packages:\n",
            "  libeigen3-doc libmrpt-dev libfftw3-doc pybind11-doc\n",
            "The following NEW packages will be installed:\n",
            "  libeigen3-dev libfftw3-bin libfftw3-dev libfftw3-long3 libfftw3-quad3\n",
            "  libfftw3-single3 pybind11-dev\n",
            "0 upgraded, 7 newly installed, 0 to remove and 19 not upgraded.\n",
            "Need to get 4,648 kB of archives.\n",
            "After this operation, 28.7 MB of additional disk space will be used.\n",
            "Get:1 http://archive.ubuntu.com/ubuntu bionic/main amd64 libfftw3-long3 amd64 3.3.7-1 [308 kB]\n",
            "Get:2 http://archive.ubuntu.com/ubuntu bionic/main amd64 libfftw3-quad3 amd64 3.3.7-1 [552 kB]\n",
            "Get:3 http://archive.ubuntu.com/ubuntu bionic/main amd64 libfftw3-single3 amd64 3.3.7-1 [764 kB]\n",
            "Get:4 http://archive.ubuntu.com/ubuntu bionic/main amd64 libfftw3-bin amd64 3.3.7-1 [32.7 kB]\n",
            "Get:5 http://archive.ubuntu.com/ubuntu bionic/main amd64 libfftw3-dev amd64 3.3.7-1 [2,108 kB]\n",
            "Get:6 http://archive.ubuntu.com/ubuntu bionic/universe amd64 pybind11-dev all 2.0.1-4 [72.8 kB]\n",
            "Get:7 http://archive.ubuntu.com/ubuntu bionic/universe amd64 libeigen3-dev all 3.3.4-4 [810 kB]\n",
            "Fetched 4,648 kB in 2s (2,863 kB/s)\n",
            "Selecting previously unselected package libfftw3-long3:amd64.\n",
            "(Reading database ... 146425 files and directories currently installed.)\n",
            "Preparing to unpack .../0-libfftw3-long3_3.3.7-1_amd64.deb ...\n",
            "Unpacking libfftw3-long3:amd64 (3.3.7-1) ...\n",
            "Selecting previously unselected package libfftw3-quad3:amd64.\n",
            "Preparing to unpack .../1-libfftw3-quad3_3.3.7-1_amd64.deb ...\n",
            "Unpacking libfftw3-quad3:amd64 (3.3.7-1) ...\n",
            "Selecting previously unselected package libfftw3-single3:amd64.\n",
            "Preparing to unpack .../2-libfftw3-single3_3.3.7-1_amd64.deb ...\n",
            "Unpacking libfftw3-single3:amd64 (3.3.7-1) ...\n",
            "Selecting previously unselected package libfftw3-bin.\n",
            "Preparing to unpack .../3-libfftw3-bin_3.3.7-1_amd64.deb ...\n",
            "Unpacking libfftw3-bin (3.3.7-1) ...\n",
            "Selecting previously unselected package libfftw3-dev:amd64.\n",
            "Preparing to unpack .../4-libfftw3-dev_3.3.7-1_amd64.deb ...\n",
            "Unpacking libfftw3-dev:amd64 (3.3.7-1) ...\n",
            "Selecting previously unselected package pybind11-dev.\n",
            "Preparing to unpack .../5-pybind11-dev_2.0.1-4_all.deb ...\n",
            "Unpacking pybind11-dev (2.0.1-4) ...\n",
            "Selecting previously unselected package libeigen3-dev.\n",
            "Preparing to unpack .../6-libeigen3-dev_3.3.4-4_all.deb ...\n",
            "Unpacking libeigen3-dev (3.3.4-4) ...\n",
            "Setting up libeigen3-dev (3.3.4-4) ...\n",
            "Setting up libfftw3-quad3:amd64 (3.3.7-1) ...\n",
            "Setting up pybind11-dev (2.0.1-4) ...\n",
            "Setting up libfftw3-single3:amd64 (3.3.7-1) ...\n",
            "Setting up libfftw3-long3:amd64 (3.3.7-1) ...\n",
            "Setting up libfftw3-bin (3.3.7-1) ...\n",
            "Setting up libfftw3-dev:amd64 (3.3.7-1) ...\n",
            "Processing triggers for libc-bin (2.27-3ubuntu1.3) ...\n",
            "/sbin/ldconfig.real: /usr/local/lib/python3.6/dist-packages/ideep4py/lib/libmkldnn.so.0 is not a symbolic link\n",
            "\n",
            "Processing triggers for man-db (2.8.3-2ubuntu0.1) ...\n",
            "Collecting galsim\n",
            "\u001b[?25l  Downloading https://files.pythonhosted.org/packages/7a/ad/06dfc3f21aa8717b5ea5c801bab1aa57cb6648b9231a96d702594b8d7dc6/GalSim-2.2.5.tar.gz (2.1MB)\n",
            "\u001b[K     |████████████████████████████████| 2.1MB 8.2MB/s \n",
            "\u001b[?25h  Installing build dependencies ... \u001b[?25l\u001b[?25hdone\n",
            "  Getting requirements to build wheel ... \u001b[?25l\u001b[?25hdone\n",
            "    Preparing wheel metadata ... \u001b[?25l\u001b[?25hdone\n",
            "Requirement already satisfied: astropy in /usr/local/lib/python3.6/dist-packages (from galsim) (4.1)\n",
            "Requirement already satisfied: setuptools>=38 in /usr/local/lib/python3.6/dist-packages (from galsim) (53.0.0)\n",
            "Requirement already satisfied: numpy in /usr/local/lib/python3.6/dist-packages (from galsim) (1.19.5)\n",
            "Collecting LSSTDESC.Coord\n",
            "\u001b[?25l  Downloading https://files.pythonhosted.org/packages/38/8f/a362ec64d8097cf0a1595b70ab9225ecec748482e3cb7b572de890ef78a1/LSSTDESC.Coord-1.2.1.tar.gz (48kB)\n",
            "\u001b[K     |████████████████████████████████| 51kB 45.2MB/s \n",
            "\u001b[?25hRequirement already satisfied: future in /usr/local/lib/python3.6/dist-packages (from galsim) (0.16.0)\n",
            "Collecting pybind11>=2.2\n",
            "\u001b[?25l  Downloading https://files.pythonhosted.org/packages/8d/43/7339dbabbc2793718d59703aace4166f53c29ee1c202f6ff5bf8a26c4d91/pybind11-2.6.2-py2.py3-none-any.whl (191kB)\n",
            "\u001b[K     |████████████████████████████████| 194kB 37.9MB/s \n",
            "\u001b[?25hRequirement already satisfied: cffi in /usr/local/lib/python3.6/dist-packages (from LSSTDESC.Coord->galsim) (1.14.4)\n",
            "Requirement already satisfied: pycparser in /usr/local/lib/python3.6/dist-packages (from cffi->LSSTDESC.Coord->galsim) (2.20)\n",
            "Building wheels for collected packages: galsim\n",
            "  Building wheel for galsim (PEP 517) ... \u001b[?25l\u001b[?25hdone\n",
            "  Created wheel for galsim: filename=GalSim-2.2.5-cp36-cp36m-linux_x86_64.whl size=27717553 sha256=4cc0d273cd99b2d8c76d38f48d6a64c69e0a2c917b09a3b95665ee989d966826\n",
            "  Stored in directory: /tmp/pip-ephem-wheel-cache-zdpap8x5/wheels/ae/cd/7c/682397d3a06e65829d85960f7895fead5ec51a0eaf2ccfc37a\n",
            "Successfully built galsim\n",
            "Building wheels for collected packages: LSSTDESC.Coord\n",
            "  Building wheel for LSSTDESC.Coord (setup.py) ... \u001b[?25l\u001b[?25hdone\n",
            "  Created wheel for LSSTDESC.Coord: filename=LSSTDESC.Coord-1.2.1-cp36-cp36m-linux_x86_64.whl size=32162 sha256=a6e52b3746f527238176b8167982c8024a4331d14659bfacf6cddf1500d4e978\n",
            "  Stored in directory: /tmp/pip-ephem-wheel-cache-zdpap8x5/wheels/e1/5b/06/ec92a4a5bc9e0dc8d60fa45647461f3476c46d895a4df342f8\n",
            "Successfully built LSSTDESC.Coord\n",
            "Installing collected packages: LSSTDESC.Coord, pybind11, galsim\n",
            "Successfully installed LSSTDESC.Coord-1.2.1 galsim-2.2.5 pybind11-2.6.2\n"
          ],
          "name": "stdout"
        }
      ]
    },
    {
      "cell_type": "code",
      "metadata": {
        "id": "J1ZDxd009Jat"
      },
      "source": [
        "import itertools\n",
        "np.random.seed(seed=10)\n",
        "\n",
        "# Define the ellipticities for each stars (e1s and e2s), \n",
        "# and the constant shape of the stars before the shearing (sigma, fwhm_psf)\n",
        "e1 = np.linspace(-0.15, 0.15, num=10, endpoint=True)\n",
        "e2 = np.linspace(-0.15, 0.15, num=10, endpoint=True)\n",
        "R2 = np.random.uniform(2.5, 8, 10)\n",
        "sigma = np.sqrt(R2/2)\n",
        "fwhm_psf = (2*np.sqrt(2*np.log(2)))*sigma\n",
        "\n",
        "# Generate the 1000 combinations of e1, e2 and fwhm\n",
        "\n",
        "es = list(itertools.product(*[e1, e2, fwhm_psf]))\n",
        "e1s = np.array([a for a,b,c in es])\n",
        "e2s = np.array([b for a,b,c in es]) \n",
        "fwhms = np.array([c for a,b,c in es])"
      ],
      "execution_count": 4,
      "outputs": []
    },
    {
      "cell_type": "code",
      "metadata": {
        "id": "0x-4spKX9VrD"
      },
      "source": [
        "# Parameters\n",
        "image_size = 51\n",
        "psf_flux = 1.\n",
        "beta_psf =  4.8 # 4.8# 2.5\n",
        "pix_scale = 0.187\n",
        "desired_SNR = 30\n",
        "\n",
        "# Generate the vignets\n",
        "new_vignets_noiseless = np.zeros((e1s.shape[0],image_size,image_size))\n",
        "new_vignets_with_noise = np.zeros((e1s.shape[0],image_size,image_size))\n",
        "new_e1_HSM = np.zeros(e1s.shape)\n",
        "new_e2_HSM = np.zeros(e1s.shape)\n",
        "new_R2_HSM = np.zeros(e1s.shape)\n",
        "for it in range(e1s.shape[0]):\n",
        "    \n",
        "    # PSF generation. Define size\n",
        "    psf = galsim.Moffat(fwhm=fwhms[it]*pix_scale, beta=beta_psf)\n",
        "#     psf = galsim.Gaussian(fwhm=fwhms[it]*pix_scale)#, beta=beta_psf)\n",
        "    # Define the Flux\n",
        "    psf = psf.withFlux(psf_flux)\n",
        "    # Define the shear\n",
        "    psf = psf.shear(g1=e1s[it], g2=e2s[it])\n",
        "    # Draw the PSF on a vignet\n",
        "    noisy_image_epsf = galsim.ImageF(image_size, image_size)\n",
        "    # Define intrapixel shift (uniform distribution in [-0.5,0.5])\n",
        "    rand_shift = np.random.rand(2)-0.5\n",
        "    psf.drawImage(image=noisy_image_epsf, offset=rand_shift, scale=pix_scale)\n",
        "\n",
        "    sigma_noise = np.sqrt((np.sum(noisy_image_epsf.array**2))/(desired_SNR * image_size**2))\n",
        "    # Generate Gaussian noise for the PSF \n",
        "    gaussian_noise = galsim.GaussianNoise(sigma=sigma_noise)\n",
        "    \n",
        "    # Before adding the noise, we measure the ellipticity components\n",
        "#     my_moments = noisy_image_epsf.FindAdaptiveMom()\n",
        "    my_moments = galsim.hsm.FindAdaptiveMom(noisy_image_epsf)\n",
        "    new_e1_HSM[it] = my_moments.observed_shape.g1\n",
        "    new_e2_HSM[it] = my_moments.observed_shape.g2\n",
        "    new_R2_HSM[it] = my_moments.moments_sigma\n",
        "\n",
        "    # Save images before adding the noise\n",
        "\n",
        "    new_vignets_noiseless[it,:,:] = noisy_image_epsf.array\n",
        "    \n",
        "    # Add Gaussian noise to the PSF \n",
        "    noisy_image_epsf.addNoise(gaussian_noise)\n",
        "    \n",
        "    new_vignets_with_noise[it,:,:] = noisy_image_epsf.array\n",
        "    "
      ],
      "execution_count": 6,
      "outputs": []
    },
    {
      "cell_type": "code",
      "metadata": {
        "id": "Wwxjc0aWUQyF"
      },
      "source": [
        "train_dic = {'VIGNET_NOISELESS':new_vignets_noiseless,'VIGNETS_WITH_NOISE':new_vignets_with_noise,  \n",
        "             'TRUE_E1_HSM':new_e1_HSM,'TRUE_E2_HSM':new_e2_HSM,'TRUE_R2_HSM':new_R2_HSM}\n",
        "\n"
      ],
      "execution_count": 7,
      "outputs": []
    },
    {
      "cell_type": "code",
      "metadata": {
        "id": "V98iyO33bzXx",
        "colab": {
          "base_uri": "https://localhost:8080/",
          "height": 754
        },
        "outputId": "7fabb7ad-8109-43ef-f872-e84f6a201ec0"
      },
      "source": [
        "one_star_noiseless = new_vignets_noiseless[0,:,:]\n",
        "one_star_noise = new_vignets_with_noise[0,:,:]\n",
        "second_star_noiseless = new_vignets_noiseless[999,:,:]\n",
        "second_star_noise = new_vignets_with_noise[999,:,:]\n",
        "\n",
        "fig = plt.figure(num=0, figsize=(12,12))\n",
        "ax1 = fig.add_subplot(2,2,1)\n",
        "im1 = ax1.imshow(one_star_noiseless, interpolation='None')\n",
        "ax2 = fig.add_subplot(2,2,2)\n",
        "im2 = ax2.imshow(one_star_noise, interpolation='None')\n",
        "ax3 = fig.add_subplot(2,2,3)\n",
        "im3 = ax3.imshow(second_star_noiseless, interpolation='None')\n",
        "ax4 = fig.add_subplot(2,2,4)\n",
        "im4 = ax4.imshow(second_star_noise, interpolation='None')\n",
        "divider = make_axes_locatable(ax1)\n",
        "cax = divider.append_axes('right', size='5%', pad=0.05)\n",
        "fig.colorbar(im1, cax=cax, orientation='vertical')\n",
        "\n",
        "print(\"First star's ellipticity is: ({},{})\".format(new_e1_HSM[0], new_e2_HSM[0]))\n",
        "print(\"Second star's ellipticity is: ({},{})\".format(new_e1_HSM[999], new_e2_HSM[999]))"
      ],
      "execution_count": 12,
      "outputs": [
        {
          "output_type": "stream",
          "text": [
            "First star's ellipticity is: (-0.14649272480024125,-0.14651650226459972)\n",
            "Second star's ellipticity is: (0.14214639641122687,0.14239108641660986)\n"
          ],
          "name": "stdout"
        },
        {
          "output_type": "display_data",
          "data": {
            "image/png": "[encoded data removed]",
            "text/plain": [
              "<Figure size 864x864 with 5 Axes>"
            ]
          },
          "metadata": {
            "tags": [],
            "needs_background": "light"
          }
        }
      ]
    },
    {
      "cell_type": "code",
      "metadata": {
        "id": "IcbzKtvQ9tPA"
      },
      "source": [
        ""
      ],
      "execution_count": null,
      "outputs": []
    }
  ]
}